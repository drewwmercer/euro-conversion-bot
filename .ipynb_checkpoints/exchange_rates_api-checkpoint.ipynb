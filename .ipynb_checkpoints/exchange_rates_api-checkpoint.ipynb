{
 "cells": [
  {
   "cell_type": "code",
   "execution_count": 20,
   "metadata": {},
   "outputs": [],
   "source": [
    "base_url_nokey = 'https://api.exchangeratesapi.io/latest'"
   ]
  },
  {
   "cell_type": "code",
   "execution_count": 21,
   "metadata": {},
   "outputs": [],
   "source": [
    "import requests"
   ]
  },
  {
   "cell_type": "code",
   "execution_count": 22,
   "metadata": {},
   "outputs": [],
   "source": [
    "# Send a GET request\n",
    "response = requests.get(base_url_nokey)"
   ]
  },
  {
   "cell_type": "code",
   "execution_count": 23,
   "metadata": {},
   "outputs": [
    {
     "data": {
      "text/plain": [
       "True"
      ]
     },
     "execution_count": 23,
     "metadata": {},
     "output_type": "execute_result"
    }
   ],
   "source": [
    "# Investigate the response\n",
    "response.ok"
   ]
  },
  {
   "cell_type": "code",
   "execution_count": 24,
   "metadata": {},
   "outputs": [
    {
     "data": {
      "text/plain": [
       "200"
      ]
     },
     "execution_count": 24,
     "metadata": {},
     "output_type": "execute_result"
    }
   ],
   "source": [
    "response.status_code"
   ]
  },
  {
   "cell_type": "code",
   "execution_count": 25,
   "metadata": {},
   "outputs": [
    {
     "data": {
      "text/plain": [
       "'{\\n  \"success\": false,\\n  \"error\": {\\n    \"code\": 101,\\n    \"type\": \"missing_access_key\",\\n    \"info\": \"You have not supplied an API Access Key. [Required format: access_key=YOUR_ACCESS_KEY]\"\\n  }\\n}\\n'"
      ]
     },
     "execution_count": 25,
     "metadata": {},
     "output_type": "execute_result"
    }
   ],
   "source": [
    "response.text"
   ]
  },
  {
   "cell_type": "code",
   "execution_count": 26,
   "metadata": {},
   "outputs": [],
   "source": [
    "from configparser import ConfigParser"
   ]
  },
  {
   "cell_type": "code",
   "execution_count": 27,
   "metadata": {},
   "outputs": [],
   "source": [
    "parser = ConfigParser()\n",
    "_ = parser.read('notebook.cfg')\n",
    "\n",
    "api_auth_key = parser.get('exchangeratesapi', 'auth_key')"
   ]
  },
  {
   "cell_type": "code",
   "execution_count": 31,
   "metadata": {},
   "outputs": [],
   "source": [
    "base_url = \"http://api.exchangeratesapi.io/v1/latest?access_key=\" + api_auth_key"
   ]
  },
  {
   "cell_type": "code",
   "execution_count": 32,
   "metadata": {},
   "outputs": [],
   "source": [
    "# Send a GET request that connects and authenticates\n",
    "response = requests.get(base_url)"
   ]
  },
  {
   "cell_type": "code",
   "execution_count": 33,
   "metadata": {},
   "outputs": [
    {
     "data": {
      "text/plain": [
       "'{\"success\":true,\"timestamp\":1629312125,\"base\":\"EUR\",\"date\":\"2021-08-18\",\"rates\":{\"AED\":4.304143,\"AFN\":100.937808,\"ALL\":121.592403,\"AMD\":575.433073,\"ANG\":2.10336,\"AOA\":746.254608,\"ARS\":113.975956,\"AUD\":1.615945,\"AWG\":2.109479,\"AZN\":1.968225,\"BAM\":1.956723,\"BBD\":2.36586,\"BDT\":99.555254,\"BGN\":1.957465,\"BHD\":0.441776,\"BIF\":2324.641533,\"BMD\":1.17177,\"BND\":1.594244,\"BOB\":8.07932,\"BRL\":6.266036,\"BSD\":1.171725,\"BTC\":2.5640407e-5,\"BTN\":86.975095,\"BWP\":13.129094,\"BYN\":2.943869,\"BYR\":22966.691999,\"BZD\":2.361958,\"CAD\":1.479887,\"CDF\":2347.055789,\"CHF\":1.074015,\"CLF\":0.033416,\"CLP\":922.11215,\"CNY\":7.598582,\"COP\":4513.072155,\"CRC\":726.715598,\"CUC\":1.17177,\"CUP\":31.051905,\"CVE\":110.314425,\"CZK\":25.450896,\"DJF\":208.246564,\"DKK\":7.436636,\"DOP\":66.78063,\"DZD\":158.695386,\"EGP\":18.405929,\"ERN\":17.58219,\"ETB\":53.238353,\"EUR\":1,\"FJD\":2.457087,\"FKP\":0.846725,\"GBP\":0.851027,\"GEL\":3.614877,\"GGP\":0.846725,\"GHS\":7.077471,\"GIP\":0.846725,\"GMD\":59.935558,\"GNF\":11472.740248,\"GTQ\":9.075266,\"GYD\":244.929738,\"HKD\":9.124514,\"HNL\":27.825704,\"HRK\":7.496051,\"HTG\":114.247162,\"HUF\":350.265084,\"IDR\":16851.107192,\"ILS\":3.788848,\"IMP\":0.846725,\"INR\":87.005035,\"IQD\":1709.639758,\"IRR\":49337.375664,\"ISK\":148.381147,\"JEP\":0.846725,\"JMD\":180.742607,\"JOD\":0.830761,\"JPY\":128.740057,\"KES\":128.312162,\"KGS\":99.123814,\"KHR\":4780.02918,\"KMF\":487.514592,\"KPW\":1054.593197,\"KRW\":1370.022017,\"KWD\":0.352586,\"KYD\":0.976546,\"KZT\":498.873515,\"LAK\":11235.12143,\"LBP\":1771.893879,\"LKR\":233.785099,\"LRD\":201.10501,\"LSL\":17.113676,\"LTL\":3.459932,\"LVL\":0.708792,\"LYD\":5.299219,\"MAD\":10.542313,\"MDL\":20.599178,\"MGA\":4580.412208,\"MKD\":61.642618,\"MMK\":1928.873494,\"MNT\":3340.600432,\"MOP\":9.400092,\"MRO\":418.321688,\"MUR\":50.151217,\"MVR\":18.115375,\"MWK\":952.066564,\"MXN\":23.406293,\"MYR\":4.965984,\"MZN\":74.618584,\"NAD\":16.838391,\"NGN\":482.661312,\"NIO\":41.146435,\"NOK\":10.411649,\"NPR\":139.167636,\"NZD\":1.698692,\"OMR\":0.451161,\"PAB\":1.171825,\"PEN\":4.791947,\"PGK\":4.167305,\"PHP\":59.01092,\"PKR\":192.5218,\"PLN\":4.555525,\"PYG\":8103.538179,\"QAR\":4.266393,\"RON\":4.92413,\"RSD\":117.632704,\"RUB\":86.372573,\"RWF\":1181.309355,\"SAR\":4.3948,\"SBD\":9.434639,\"SCR\":15.337194,\"SDG\":523.198714,\"SEK\":10.209351,\"SGD\":1.593431,\"SHP\":0.846725,\"SLL\":12010.642261,\"SOS\":685.484681,\"SRD\":25.064463,\"STD\":24253.273204,\"SVC\":10.253594,\"SYP\":1473.587453,\"SZL\":17.509045,\"THB\":39.01895,\"TJS\":13.36979,\"TMT\":4.101195,\"TND\":3.253423,\"TOP\":2.661676,\"TRY\":9.913871,\"TTD\":7.961067,\"TWD\":32.627585,\"TZS\":2717.331115,\"UAH\":31.210851,\"UGX\":4136.353252,\"USD\":1.17177,\"UYU\":50.721024,\"UZS\":12481.952415,\"VEF\":250559839614.78842,\"VND\":26726.316043,\"VUV\":129.933973,\"WST\":3.000626,\"XAF\":656.30426,\"XAG\":0.049764,\"XAU\":0.000655,\"XCD\":3.166767,\"XDR\":0.824136,\"XOF\":656.251027,\"XPF\":118.642187,\"YER\":292.942507,\"ZAR\":17.48058,\"ZMK\":10547.335575,\"ZMW\":22.234162,\"ZWL\":377.309462}}'"
      ]
     },
     "execution_count": 33,
     "metadata": {},
     "output_type": "execute_result"
    }
   ],
   "source": [
    "response.text"
   ]
  },
  {
   "cell_type": "code",
   "execution_count": null,
   "metadata": {},
   "outputs": [],
   "source": []
  }
 ],
 "metadata": {
  "kernelspec": {
   "display_name": "Python 3",
   "language": "python",
   "name": "python3"
  },
  "language_info": {
   "codemirror_mode": {
    "name": "ipython",
    "version": 3
   },
   "file_extension": ".py",
   "mimetype": "text/x-python",
   "name": "python",
   "nbconvert_exporter": "python",
   "pygments_lexer": "ipython3",
   "version": "3.8.5"
  }
 },
 "nbformat": 4,
 "nbformat_minor": 4
}
